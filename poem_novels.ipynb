{
 "cells": [
  {
   "cell_type": "code",
   "execution_count": 1,
   "metadata": {},
   "outputs": [],
   "source": [
    "import pandas as pd\n",
    "import numpy as np\n",
    "import math\n",
    "import matplotlib.pyplot as plt\n",
    "import warnings\n",
    "from sklearn.model_selection import train_test_split\n",
    "from sklearn.feature_extraction.text import CountVectorizer\n",
    "from sklearn.linear_model import LogisticRegression\n",
    "from sklearn.metrics import classification_report\n",
    "from nltk.tokenize import word_tokenize\n",
    "from nltk.corpus import stopwords\n",
    "warnings.filterwarnings('ignore')"
   ]
  },
  {
   "cell_type": "code",
   "execution_count": 2,
   "metadata": {},
   "outputs": [
    {
     "data": {
      "text/html": [
       "<div>\n",
       "<style scoped>\n",
       "    .dataframe tbody tr th:only-of-type {\n",
       "        vertical-align: middle;\n",
       "    }\n",
       "\n",
       "    .dataframe tbody tr th {\n",
       "        vertical-align: top;\n",
       "    }\n",
       "\n",
       "    .dataframe thead th {\n",
       "        text-align: right;\n",
       "    }\n",
       "</style>\n",
       "<table border=\"1\" class=\"dataframe\">\n",
       "  <thead>\n",
       "    <tr style=\"text-align: right;\">\n",
       "      <th></th>\n",
       "      <th>author</th>\n",
       "      <th>content</th>\n",
       "      <th>poem name</th>\n",
       "      <th>age</th>\n",
       "      <th>type</th>\n",
       "      <th>label</th>\n",
       "    </tr>\n",
       "  </thead>\n",
       "  <tbody>\n",
       "    <tr>\n",
       "      <th>0</th>\n",
       "      <td>WILLIAM SHAKESPEARE</td>\n",
       "      <td>Let the bird of loudest lay\\r\\nOn the sole Ara...</td>\n",
       "      <td>The Phoenix and the Turtle</td>\n",
       "      <td>Renaissance</td>\n",
       "      <td>Mythology &amp; Folklore</td>\n",
       "      <td>poem</td>\n",
       "    </tr>\n",
       "    <tr>\n",
       "      <th>1</th>\n",
       "      <td>DUCHESS OF NEWCASTLE MARGARET CAVENDISH</td>\n",
       "      <td>Sir Charles into my chamber coming in,\\r\\nWhen...</td>\n",
       "      <td>An Epilogue to the Above</td>\n",
       "      <td>Renaissance</td>\n",
       "      <td>Mythology &amp; Folklore</td>\n",
       "      <td>poem</td>\n",
       "    </tr>\n",
       "    <tr>\n",
       "      <th>2</th>\n",
       "      <td>THOMAS BASTARD</td>\n",
       "      <td>Our vice runs beyond all that old men saw,\\r\\n...</td>\n",
       "      <td>Book 7, Epigram 42</td>\n",
       "      <td>Renaissance</td>\n",
       "      <td>Mythology &amp; Folklore</td>\n",
       "      <td>poem</td>\n",
       "    </tr>\n",
       "    <tr>\n",
       "      <th>3</th>\n",
       "      <td>EDMUND SPENSER</td>\n",
       "      <td>Lo I the man, whose Muse whilome did maske,\\r\\...</td>\n",
       "      <td>from The Faerie Queene: Book I, Canto I</td>\n",
       "      <td>Renaissance</td>\n",
       "      <td>Mythology &amp; Folklore</td>\n",
       "      <td>poem</td>\n",
       "    </tr>\n",
       "    <tr>\n",
       "      <th>4</th>\n",
       "      <td>RICHARD BARNFIELD</td>\n",
       "      <td>Long have I longd to see my love againe,\\r\\nSt...</td>\n",
       "      <td>Sonnet 16</td>\n",
       "      <td>Renaissance</td>\n",
       "      <td>Mythology &amp; Folklore</td>\n",
       "      <td>poem</td>\n",
       "    </tr>\n",
       "  </tbody>\n",
       "</table>\n",
       "</div>"
      ],
      "text/plain": [
       "                                    author  \\\n",
       "0                      WILLIAM SHAKESPEARE   \n",
       "1  DUCHESS OF NEWCASTLE MARGARET CAVENDISH   \n",
       "2                           THOMAS BASTARD   \n",
       "3                           EDMUND SPENSER   \n",
       "4                        RICHARD BARNFIELD   \n",
       "\n",
       "                                             content  \\\n",
       "0  Let the bird of loudest lay\\r\\nOn the sole Ara...   \n",
       "1  Sir Charles into my chamber coming in,\\r\\nWhen...   \n",
       "2  Our vice runs beyond all that old men saw,\\r\\n...   \n",
       "3  Lo I the man, whose Muse whilome did maske,\\r\\...   \n",
       "4  Long have I longd to see my love againe,\\r\\nSt...   \n",
       "\n",
       "                                 poem name          age                  type  \\\n",
       "0               The Phoenix and the Turtle  Renaissance  Mythology & Folklore   \n",
       "1                 An Epilogue to the Above  Renaissance  Mythology & Folklore   \n",
       "2                       Book 7, Epigram 42  Renaissance  Mythology & Folklore   \n",
       "3  from The Faerie Queene: Book I, Canto I  Renaissance  Mythology & Folklore   \n",
       "4                                Sonnet 16  Renaissance  Mythology & Folklore   \n",
       "\n",
       "  label  \n",
       "0  poem  \n",
       "1  poem  \n",
       "2  poem  \n",
       "3  poem  \n",
       "4  poem  "
      ]
     },
     "execution_count": 2,
     "metadata": {},
     "output_type": "execute_result"
    }
   ],
   "source": [
    "poem=pd.read_csv('all.csv')\n",
    "poem['label']='poem'\n",
    "poem.head()"
   ]
  },
  {
   "cell_type": "code",
   "execution_count": 3,
   "metadata": {},
   "outputs": [
    {
     "data": {
      "text/plain": [
       "WILLIAM SHAKESPEARE     71\n",
       "SIR PHILIP SIDNEY       42\n",
       "JOHN DONNE              41\n",
       "EDMUND SPENSER          34\n",
       "WILLIAM BUTLER YEATS    26\n",
       "                        ..\n",
       "JOHN FLETCHER            1\n",
       "ROBERT SOUTHWELL, SJ     1\n",
       "SIR EDWARD DYER          1\n",
       "ISABELLA WHITNEY         1\n",
       "THOMAS HEYWOOD           1\n",
       "Name: author, Length: 67, dtype: int64"
      ]
     },
     "execution_count": 3,
     "metadata": {},
     "output_type": "execute_result"
    }
   ],
   "source": [
    "poem.shape\n",
    "poem.author.value_counts()"
   ]
  },
  {
   "cell_type": "code",
   "execution_count": 4,
   "metadata": {},
   "outputs": [],
   "source": [
    "novel=pd.read_csv('booksummaries.txt',delimiter='\\t',\n",
    "    header='infer',\n",
    "    names=['bookno','path','bookname','author','year','genre','content'])"
   ]
  },
  {
   "cell_type": "code",
   "execution_count": 5,
   "metadata": {},
   "outputs": [
    {
     "data": {
      "text/html": [
       "<div>\n",
       "<style scoped>\n",
       "    .dataframe tbody tr th:only-of-type {\n",
       "        vertical-align: middle;\n",
       "    }\n",
       "\n",
       "    .dataframe tbody tr th {\n",
       "        vertical-align: top;\n",
       "    }\n",
       "\n",
       "    .dataframe thead th {\n",
       "        text-align: right;\n",
       "    }\n",
       "</style>\n",
       "<table border=\"1\" class=\"dataframe\">\n",
       "  <thead>\n",
       "    <tr style=\"text-align: right;\">\n",
       "      <th></th>\n",
       "      <th>bookno</th>\n",
       "      <th>path</th>\n",
       "      <th>bookname</th>\n",
       "      <th>author</th>\n",
       "      <th>year</th>\n",
       "      <th>genre</th>\n",
       "      <th>content</th>\n",
       "      <th>label</th>\n",
       "    </tr>\n",
       "  </thead>\n",
       "  <tbody>\n",
       "    <tr>\n",
       "      <th>0</th>\n",
       "      <td>620</td>\n",
       "      <td>/m/0hhy</td>\n",
       "      <td>Animal Farm</td>\n",
       "      <td>George Orwell</td>\n",
       "      <td>1945-08-17</td>\n",
       "      <td>{\"/m/016lj8\": \"Roman \\u00e0 clef\", \"/m/06nbt\":...</td>\n",
       "      <td>Old Major, the old boar on the Manor Farm, ca...</td>\n",
       "      <td>novel</td>\n",
       "    </tr>\n",
       "    <tr>\n",
       "      <th>1</th>\n",
       "      <td>843</td>\n",
       "      <td>/m/0k36</td>\n",
       "      <td>A Clockwork Orange</td>\n",
       "      <td>Anthony Burgess</td>\n",
       "      <td>1962</td>\n",
       "      <td>{\"/m/06n90\": \"Science Fiction\", \"/m/0l67h\": \"N...</td>\n",
       "      <td>Alex, a teenager living in near-future Englan...</td>\n",
       "      <td>novel</td>\n",
       "    </tr>\n",
       "    <tr>\n",
       "      <th>2</th>\n",
       "      <td>986</td>\n",
       "      <td>/m/0ldx</td>\n",
       "      <td>The Plague</td>\n",
       "      <td>Albert Camus</td>\n",
       "      <td>1947</td>\n",
       "      <td>{\"/m/02m4t\": \"Existentialism\", \"/m/02xlf\": \"Fi...</td>\n",
       "      <td>The text of The Plague is divided into five p...</td>\n",
       "      <td>novel</td>\n",
       "    </tr>\n",
       "    <tr>\n",
       "      <th>3</th>\n",
       "      <td>1756</td>\n",
       "      <td>/m/0sww</td>\n",
       "      <td>An Enquiry Concerning Human Understanding</td>\n",
       "      <td>David Hume</td>\n",
       "      <td>NaN</td>\n",
       "      <td>NaN</td>\n",
       "      <td>The argument of the Enquiry proceeds by a ser...</td>\n",
       "      <td>novel</td>\n",
       "    </tr>\n",
       "    <tr>\n",
       "      <th>4</th>\n",
       "      <td>2080</td>\n",
       "      <td>/m/0wkt</td>\n",
       "      <td>A Fire Upon the Deep</td>\n",
       "      <td>Vernor Vinge</td>\n",
       "      <td>NaN</td>\n",
       "      <td>{\"/m/03lrw\": \"Hard science fiction\", \"/m/06n90...</td>\n",
       "      <td>The novel posits that space around the Milky ...</td>\n",
       "      <td>novel</td>\n",
       "    </tr>\n",
       "  </tbody>\n",
       "</table>\n",
       "</div>"
      ],
      "text/plain": [
       "   bookno     path                                   bookname  \\\n",
       "0     620  /m/0hhy                                Animal Farm   \n",
       "1     843  /m/0k36                         A Clockwork Orange   \n",
       "2     986  /m/0ldx                                 The Plague   \n",
       "3    1756  /m/0sww  An Enquiry Concerning Human Understanding   \n",
       "4    2080  /m/0wkt                       A Fire Upon the Deep   \n",
       "\n",
       "            author        year  \\\n",
       "0    George Orwell  1945-08-17   \n",
       "1  Anthony Burgess        1962   \n",
       "2     Albert Camus        1947   \n",
       "3       David Hume         NaN   \n",
       "4     Vernor Vinge         NaN   \n",
       "\n",
       "                                               genre  \\\n",
       "0  {\"/m/016lj8\": \"Roman \\u00e0 clef\", \"/m/06nbt\":...   \n",
       "1  {\"/m/06n90\": \"Science Fiction\", \"/m/0l67h\": \"N...   \n",
       "2  {\"/m/02m4t\": \"Existentialism\", \"/m/02xlf\": \"Fi...   \n",
       "3                                                NaN   \n",
       "4  {\"/m/03lrw\": \"Hard science fiction\", \"/m/06n90...   \n",
       "\n",
       "                                             content  label  \n",
       "0   Old Major, the old boar on the Manor Farm, ca...  novel  \n",
       "1   Alex, a teenager living in near-future Englan...  novel  \n",
       "2   The text of The Plague is divided into five p...  novel  \n",
       "3   The argument of the Enquiry proceeds by a ser...  novel  \n",
       "4   The novel posits that space around the Milky ...  novel  "
      ]
     },
     "execution_count": 5,
     "metadata": {},
     "output_type": "execute_result"
    }
   ],
   "source": [
    "novel['label']='novel'\n",
    "novel.head()"
   ]
  },
  {
   "cell_type": "code",
   "execution_count": 6,
   "metadata": {},
   "outputs": [],
   "source": [
    "novel=novel[novel['author'].notnull()]"
   ]
  },
  {
   "cell_type": "code",
   "execution_count": 7,
   "metadata": {},
   "outputs": [
    {
     "data": {
      "text/plain": [
       "Agatha Christie            74\n",
       "Franklin W. Dixon          68\n",
       "K. A. Applegate            62\n",
       "Stephen King               60\n",
       "Edgar Rice Burroughs       59\n",
       "                           ..\n",
       "Robert Erskine Childers     1\n",
       "John Metcalfe               1\n",
       "Marcel Proust               1\n",
       "Mo Yan                      1\n",
       "Shane Dix                   1\n",
       "Name: author, Length: 4714, dtype: int64"
      ]
     },
     "execution_count": 7,
     "metadata": {},
     "output_type": "execute_result"
    }
   ],
   "source": [
    "novel.shape\n",
    "novel.author.value_counts()"
   ]
  },
  {
   "cell_type": "code",
   "execution_count": 8,
   "metadata": {},
   "outputs": [],
   "source": [
    "data=pd.merge(poem,novel.iloc[0:1500,:],how='outer')"
   ]
  },
  {
   "cell_type": "code",
   "execution_count": 9,
   "metadata": {},
   "outputs": [
    {
     "data": {
      "text/plain": [
       "(2073, 11)"
      ]
     },
     "execution_count": 9,
     "metadata": {},
     "output_type": "execute_result"
    }
   ],
   "source": [
    "data.shape"
   ]
  },
  {
   "cell_type": "code",
   "execution_count": 10,
   "metadata": {},
   "outputs": [],
   "source": [
    "# I would want to take only content and label\n",
    "data=data.loc[:,['content','author','label']]"
   ]
  },
  {
   "cell_type": "code",
   "execution_count": 11,
   "metadata": {},
   "outputs": [
    {
     "name": "stdout",
     "output_type": "stream",
     "text": [
      "(2073, 3)\n"
     ]
    },
    {
     "data": {
      "text/html": [
       "<div>\n",
       "<style scoped>\n",
       "    .dataframe tbody tr th:only-of-type {\n",
       "        vertical-align: middle;\n",
       "    }\n",
       "\n",
       "    .dataframe tbody tr th {\n",
       "        vertical-align: top;\n",
       "    }\n",
       "\n",
       "    .dataframe thead th {\n",
       "        text-align: right;\n",
       "    }\n",
       "</style>\n",
       "<table border=\"1\" class=\"dataframe\">\n",
       "  <thead>\n",
       "    <tr style=\"text-align: right;\">\n",
       "      <th></th>\n",
       "      <th>content</th>\n",
       "      <th>author</th>\n",
       "      <th>label</th>\n",
       "    </tr>\n",
       "  </thead>\n",
       "  <tbody>\n",
       "    <tr>\n",
       "      <th>0</th>\n",
       "      <td>Let the bird of loudest lay\\r\\nOn the sole Ara...</td>\n",
       "      <td>WILLIAM SHAKESPEARE</td>\n",
       "      <td>poem</td>\n",
       "    </tr>\n",
       "    <tr>\n",
       "      <th>1</th>\n",
       "      <td>Let the bird of loudest lay\\r\\nOn the sole Ara...</td>\n",
       "      <td>WILLIAM SHAKESPEARE</td>\n",
       "      <td>poem</td>\n",
       "    </tr>\n",
       "    <tr>\n",
       "      <th>2</th>\n",
       "      <td>Sir Charles into my chamber coming in,\\r\\nWhen...</td>\n",
       "      <td>DUCHESS OF NEWCASTLE MARGARET CAVENDISH</td>\n",
       "      <td>poem</td>\n",
       "    </tr>\n",
       "    <tr>\n",
       "      <th>3</th>\n",
       "      <td>Our vice runs beyond all that old men saw,\\r\\n...</td>\n",
       "      <td>THOMAS BASTARD</td>\n",
       "      <td>poem</td>\n",
       "    </tr>\n",
       "    <tr>\n",
       "      <th>4</th>\n",
       "      <td>Lo I the man, whose Muse whilome did maske,\\r\\...</td>\n",
       "      <td>EDMUND SPENSER</td>\n",
       "      <td>poem</td>\n",
       "    </tr>\n",
       "  </tbody>\n",
       "</table>\n",
       "</div>"
      ],
      "text/plain": [
       "                                             content  \\\n",
       "0  Let the bird of loudest lay\\r\\nOn the sole Ara...   \n",
       "1  Let the bird of loudest lay\\r\\nOn the sole Ara...   \n",
       "2  Sir Charles into my chamber coming in,\\r\\nWhen...   \n",
       "3  Our vice runs beyond all that old men saw,\\r\\n...   \n",
       "4  Lo I the man, whose Muse whilome did maske,\\r\\...   \n",
       "\n",
       "                                    author label  \n",
       "0                      WILLIAM SHAKESPEARE  poem  \n",
       "1                      WILLIAM SHAKESPEARE  poem  \n",
       "2  DUCHESS OF NEWCASTLE MARGARET CAVENDISH  poem  \n",
       "3                           THOMAS BASTARD  poem  \n",
       "4                           EDMUND SPENSER  poem  "
      ]
     },
     "execution_count": 11,
     "metadata": {},
     "output_type": "execute_result"
    }
   ],
   "source": [
    "print(data.shape)\n",
    "data.head()"
   ]
  },
  {
   "cell_type": "code",
   "execution_count": 12,
   "metadata": {},
   "outputs": [
    {
     "data": {
      "text/plain": [
       "0       Let the bird of loudest lay\\r\\nOn the sole Ara...\n",
       "1       Let the bird of loudest lay\\r\\nOn the sole Ara...\n",
       "2       Sir Charles into my chamber coming in,\\r\\nWhen...\n",
       "3       Our vice runs beyond all that old men saw,\\r\\n...\n",
       "4       Lo I the man, whose Muse whilome did maske,\\r\\...\n",
       "                              ...                        \n",
       "2068     A deadly virus has swept the world, killing o...\n",
       "2069     Bertie returns to London from several weeks i...\n",
       "2070     In the 1960s, young Celia Marsdon is a rich A...\n",
       "2071     Stig is a caveman. He lives at the bottom of ...\n",
       "2072     Emil Sinclair is a young boy raised in a bour...\n",
       "Name: content, Length: 2073, dtype: object"
      ]
     },
     "execution_count": 12,
     "metadata": {},
     "output_type": "execute_result"
    }
   ],
   "source": [
    "data.content"
   ]
  },
  {
   "cell_type": "code",
   "execution_count": 13,
   "metadata": {},
   "outputs": [
    {
     "data": {
      "text/plain": [
       "content    0\n",
       "author     0\n",
       "label      0\n",
       "dtype: int64"
      ]
     },
     "execution_count": 13,
     "metadata": {},
     "output_type": "execute_result"
    }
   ],
   "source": [
    "data.isnull().sum()"
   ]
  },
  {
   "cell_type": "code",
   "execution_count": 14,
   "metadata": {},
   "outputs": [],
   "source": [
    "import re\n",
    "def clean_text(text):\n",
    "    return ' '.join(re.sub(\"(@,[A-Za-z0-9]+)|([^0-9A-Za-z \\t \\r \\n])|(\\w+:\\/\\/\\S+)|([0-9])\", \" \", text).lower().split())"
   ]
  },
  {
   "cell_type": "code",
   "execution_count": 15,
   "metadata": {},
   "outputs": [
    {
     "data": {
      "text/html": [
       "<div>\n",
       "<style scoped>\n",
       "    .dataframe tbody tr th:only-of-type {\n",
       "        vertical-align: middle;\n",
       "    }\n",
       "\n",
       "    .dataframe tbody tr th {\n",
       "        vertical-align: top;\n",
       "    }\n",
       "\n",
       "    .dataframe thead th {\n",
       "        text-align: right;\n",
       "    }\n",
       "</style>\n",
       "<table border=\"1\" class=\"dataframe\">\n",
       "  <thead>\n",
       "    <tr style=\"text-align: right;\">\n",
       "      <th></th>\n",
       "      <th>content</th>\n",
       "      <th>author</th>\n",
       "      <th>label</th>\n",
       "    </tr>\n",
       "  </thead>\n",
       "  <tbody>\n",
       "    <tr>\n",
       "      <th>0</th>\n",
       "      <td>let the bird of loudest lay on the sole arabia...</td>\n",
       "      <td>WILLIAM SHAKESPEARE</td>\n",
       "      <td>poem</td>\n",
       "    </tr>\n",
       "    <tr>\n",
       "      <th>1</th>\n",
       "      <td>let the bird of loudest lay on the sole arabia...</td>\n",
       "      <td>WILLIAM SHAKESPEARE</td>\n",
       "      <td>poem</td>\n",
       "    </tr>\n",
       "    <tr>\n",
       "      <th>2</th>\n",
       "      <td>sir charles into my chamber coming in when i w...</td>\n",
       "      <td>DUCHESS OF NEWCASTLE MARGARET CAVENDISH</td>\n",
       "      <td>poem</td>\n",
       "    </tr>\n",
       "    <tr>\n",
       "      <th>3</th>\n",
       "      <td>our vice runs beyond all that old men saw and ...</td>\n",
       "      <td>THOMAS BASTARD</td>\n",
       "      <td>poem</td>\n",
       "    </tr>\n",
       "    <tr>\n",
       "      <th>4</th>\n",
       "      <td>lo i the man whose muse whilome did maske as t...</td>\n",
       "      <td>EDMUND SPENSER</td>\n",
       "      <td>poem</td>\n",
       "    </tr>\n",
       "  </tbody>\n",
       "</table>\n",
       "</div>"
      ],
      "text/plain": [
       "                                             content  \\\n",
       "0  let the bird of loudest lay on the sole arabia...   \n",
       "1  let the bird of loudest lay on the sole arabia...   \n",
       "2  sir charles into my chamber coming in when i w...   \n",
       "3  our vice runs beyond all that old men saw and ...   \n",
       "4  lo i the man whose muse whilome did maske as t...   \n",
       "\n",
       "                                    author label  \n",
       "0                      WILLIAM SHAKESPEARE  poem  \n",
       "1                      WILLIAM SHAKESPEARE  poem  \n",
       "2  DUCHESS OF NEWCASTLE MARGARET CAVENDISH  poem  \n",
       "3                           THOMAS BASTARD  poem  \n",
       "4                           EDMUND SPENSER  poem  "
      ]
     },
     "execution_count": 15,
     "metadata": {},
     "output_type": "execute_result"
    }
   ],
   "source": [
    "data['content']=data.content.apply(clean_text)\n",
    "#data['author']=data.author.apply(clean_text)\n",
    "    \n",
    "data.head()"
   ]
  },
  {
   "cell_type": "code",
   "execution_count": 16,
   "metadata": {},
   "outputs": [
    {
     "data": {
      "text/html": [
       "<div>\n",
       "<style scoped>\n",
       "    .dataframe tbody tr th:only-of-type {\n",
       "        vertical-align: middle;\n",
       "    }\n",
       "\n",
       "    .dataframe tbody tr th {\n",
       "        vertical-align: top;\n",
       "    }\n",
       "\n",
       "    .dataframe thead th {\n",
       "        text-align: right;\n",
       "    }\n",
       "</style>\n",
       "<table border=\"1\" class=\"dataframe\">\n",
       "  <thead>\n",
       "    <tr style=\"text-align: right;\">\n",
       "      <th></th>\n",
       "      <th>content</th>\n",
       "      <th>author</th>\n",
       "      <th>label</th>\n",
       "    </tr>\n",
       "  </thead>\n",
       "  <tbody>\n",
       "    <tr>\n",
       "      <th>2068</th>\n",
       "      <td>a deadly virus has swept the world killing off...</td>\n",
       "      <td>O. T Nelson</td>\n",
       "      <td>novel</td>\n",
       "    </tr>\n",
       "    <tr>\n",
       "      <th>2069</th>\n",
       "      <td>bertie returns to london from several weeks in...</td>\n",
       "      <td>P. G. Wodehouse</td>\n",
       "      <td>novel</td>\n",
       "    </tr>\n",
       "    <tr>\n",
       "      <th>2070</th>\n",
       "      <td>in the s young celia marsdon is a rich america...</td>\n",
       "      <td>Anya Seton</td>\n",
       "      <td>novel</td>\n",
       "    </tr>\n",
       "    <tr>\n",
       "      <th>2071</th>\n",
       "      <td>stig is a caveman he lives at the bottom of th...</td>\n",
       "      <td>Clive King</td>\n",
       "      <td>novel</td>\n",
       "    </tr>\n",
       "    <tr>\n",
       "      <th>2072</th>\n",
       "      <td>emil sinclair is a young boy raised in a bourg...</td>\n",
       "      <td>Hermann Hesse</td>\n",
       "      <td>novel</td>\n",
       "    </tr>\n",
       "  </tbody>\n",
       "</table>\n",
       "</div>"
      ],
      "text/plain": [
       "                                                content           author  \\\n",
       "2068  a deadly virus has swept the world killing off...      O. T Nelson   \n",
       "2069  bertie returns to london from several weeks in...  P. G. Wodehouse   \n",
       "2070  in the s young celia marsdon is a rich america...       Anya Seton   \n",
       "2071  stig is a caveman he lives at the bottom of th...       Clive King   \n",
       "2072  emil sinclair is a young boy raised in a bourg...    Hermann Hesse   \n",
       "\n",
       "      label  \n",
       "2068  novel  \n",
       "2069  novel  \n",
       "2070  novel  \n",
       "2071  novel  \n",
       "2072  novel  "
      ]
     },
     "execution_count": 16,
     "metadata": {},
     "output_type": "execute_result"
    }
   ],
   "source": [
    "data.tail()"
   ]
  },
  {
   "cell_type": "code",
   "execution_count": 17,
   "metadata": {},
   "outputs": [],
   "source": [
    "def remove_stopwords(text):\n",
    "    stop_words = stopwords.words('english')\n",
    "    word_tokens = word_tokenize(text)\n",
    "    filtered_text = ' '.join(word for word in word_tokens if word not in stop_words)\n",
    "    return filtered_text"
   ]
  },
  {
   "cell_type": "code",
   "execution_count": 18,
   "metadata": {},
   "outputs": [],
   "source": [
    "data['content']=data.content.apply(remove_stopwords)\n"
   ]
  },
  {
   "cell_type": "code",
   "execution_count": 19,
   "metadata": {},
   "outputs": [
    {
     "data": {
      "text/html": [
       "<div>\n",
       "<style scoped>\n",
       "    .dataframe tbody tr th:only-of-type {\n",
       "        vertical-align: middle;\n",
       "    }\n",
       "\n",
       "    .dataframe tbody tr th {\n",
       "        vertical-align: top;\n",
       "    }\n",
       "\n",
       "    .dataframe thead th {\n",
       "        text-align: right;\n",
       "    }\n",
       "</style>\n",
       "<table border=\"1\" class=\"dataframe\">\n",
       "  <thead>\n",
       "    <tr style=\"text-align: right;\">\n",
       "      <th></th>\n",
       "      <th>content</th>\n",
       "      <th>author</th>\n",
       "      <th>label</th>\n",
       "    </tr>\n",
       "  </thead>\n",
       "  <tbody>\n",
       "    <tr>\n",
       "      <th>0</th>\n",
       "      <td>let bird loudest lay sole arabian tree herald ...</td>\n",
       "      <td>WILLIAM SHAKESPEARE</td>\n",
       "      <td>poem</td>\n",
       "    </tr>\n",
       "    <tr>\n",
       "      <th>1</th>\n",
       "      <td>let bird loudest lay sole arabian tree herald ...</td>\n",
       "      <td>WILLIAM SHAKESPEARE</td>\n",
       "      <td>poem</td>\n",
       "    </tr>\n",
       "    <tr>\n",
       "      <th>2</th>\n",
       "      <td>sir charles chamber coming writing fairy queen...</td>\n",
       "      <td>DUCHESS OF NEWCASTLE MARGARET CAVENDISH</td>\n",
       "      <td>poem</td>\n",
       "    </tr>\n",
       "    <tr>\n",
       "      <th>3</th>\n",
       "      <td>vice runs beyond old men saw far authentically...</td>\n",
       "      <td>THOMAS BASTARD</td>\n",
       "      <td>poem</td>\n",
       "    </tr>\n",
       "    <tr>\n",
       "      <th>4</th>\n",
       "      <td>lo man whose muse whilome maske time taught lo...</td>\n",
       "      <td>EDMUND SPENSER</td>\n",
       "      <td>poem</td>\n",
       "    </tr>\n",
       "  </tbody>\n",
       "</table>\n",
       "</div>"
      ],
      "text/plain": [
       "                                             content  \\\n",
       "0  let bird loudest lay sole arabian tree herald ...   \n",
       "1  let bird loudest lay sole arabian tree herald ...   \n",
       "2  sir charles chamber coming writing fairy queen...   \n",
       "3  vice runs beyond old men saw far authentically...   \n",
       "4  lo man whose muse whilome maske time taught lo...   \n",
       "\n",
       "                                    author label  \n",
       "0                      WILLIAM SHAKESPEARE  poem  \n",
       "1                      WILLIAM SHAKESPEARE  poem  \n",
       "2  DUCHESS OF NEWCASTLE MARGARET CAVENDISH  poem  \n",
       "3                           THOMAS BASTARD  poem  \n",
       "4                           EDMUND SPENSER  poem  "
      ]
     },
     "execution_count": 19,
     "metadata": {},
     "output_type": "execute_result"
    }
   ],
   "source": [
    "data.head()"
   ]
  },
  {
   "cell_type": "code",
   "execution_count": 20,
   "metadata": {},
   "outputs": [
    {
     "data": {
      "text/html": [
       "<div>\n",
       "<style scoped>\n",
       "    .dataframe tbody tr th:only-of-type {\n",
       "        vertical-align: middle;\n",
       "    }\n",
       "\n",
       "    .dataframe tbody tr th {\n",
       "        vertical-align: top;\n",
       "    }\n",
       "\n",
       "    .dataframe thead th {\n",
       "        text-align: right;\n",
       "    }\n",
       "</style>\n",
       "<table border=\"1\" class=\"dataframe\">\n",
       "  <thead>\n",
       "    <tr style=\"text-align: right;\">\n",
       "      <th></th>\n",
       "      <th>content</th>\n",
       "      <th>author</th>\n",
       "      <th>label</th>\n",
       "    </tr>\n",
       "  </thead>\n",
       "  <tbody>\n",
       "    <tr>\n",
       "      <th>2068</th>\n",
       "      <td>deadly virus swept world killing everyone age ...</td>\n",
       "      <td>O. T Nelson</td>\n",
       "      <td>novel</td>\n",
       "    </tr>\n",
       "    <tr>\n",
       "      <th>2069</th>\n",
       "      <td>bertie returns london several weeks cannes spe...</td>\n",
       "      <td>P. G. Wodehouse</td>\n",
       "      <td>novel</td>\n",
       "    </tr>\n",
       "    <tr>\n",
       "      <th>2070</th>\n",
       "      <td>young celia marsdon rich american heiress upon...</td>\n",
       "      <td>Anya Seton</td>\n",
       "      <td>novel</td>\n",
       "    </tr>\n",
       "    <tr>\n",
       "      <th>2071</th>\n",
       "      <td>stig caveman lives bottom old chalk pit close ...</td>\n",
       "      <td>Clive King</td>\n",
       "      <td>novel</td>\n",
       "    </tr>\n",
       "    <tr>\n",
       "      <th>2072</th>\n",
       "      <td>emil sinclair young boy raised bourgeois home ...</td>\n",
       "      <td>Hermann Hesse</td>\n",
       "      <td>novel</td>\n",
       "    </tr>\n",
       "  </tbody>\n",
       "</table>\n",
       "</div>"
      ],
      "text/plain": [
       "                                                content           author  \\\n",
       "2068  deadly virus swept world killing everyone age ...      O. T Nelson   \n",
       "2069  bertie returns london several weeks cannes spe...  P. G. Wodehouse   \n",
       "2070  young celia marsdon rich american heiress upon...       Anya Seton   \n",
       "2071  stig caveman lives bottom old chalk pit close ...       Clive King   \n",
       "2072  emil sinclair young boy raised bourgeois home ...    Hermann Hesse   \n",
       "\n",
       "      label  \n",
       "2068  novel  \n",
       "2069  novel  \n",
       "2070  novel  \n",
       "2071  novel  \n",
       "2072  novel  "
      ]
     },
     "execution_count": 20,
     "metadata": {},
     "output_type": "execute_result"
    }
   ],
   "source": [
    "data.tail()"
   ]
  },
  {
   "cell_type": "code",
   "execution_count": 21,
   "metadata": {},
   "outputs": [],
   "source": [
    "y=data['label']\n",
    "for i in range(len(y)) :\n",
    "    if y[i]=='poem':\n",
    "        y[i]=1\n",
    "    else:\n",
    "        y[i]=0\n"
   ]
  },
  {
   "cell_type": "code",
   "execution_count": 22,
   "metadata": {},
   "outputs": [],
   "source": [
    "y=y.astype('int')"
   ]
  },
  {
   "cell_type": "code",
   "execution_count": 23,
   "metadata": {},
   "outputs": [],
   "source": [
    "#x=data.loc[:,['content','author']]\n",
    "x=data.loc[:,['content']]"
   ]
  },
  {
   "cell_type": "code",
   "execution_count": 24,
   "metadata": {},
   "outputs": [],
   "source": [
    "\n",
    "x=x['content'].values"
   ]
  },
  {
   "cell_type": "code",
   "execution_count": 25,
   "metadata": {},
   "outputs": [],
   "source": [
    "x_train,x_test,y_train,y_test=train_test_split(x,y,test_size=0.2,random_state=0)"
   ]
  },
  {
   "cell_type": "code",
   "execution_count": 26,
   "metadata": {},
   "outputs": [],
   "source": [
    "vectorizer = CountVectorizer()\n",
    "vectorizer.fit(x_train)\n",
    "X_train = vectorizer.transform(x_train)\n",
    "X_test = vectorizer.transform(x_test)"
   ]
  },
  {
   "cell_type": "code",
   "execution_count": 27,
   "metadata": {},
   "outputs": [
    {
     "data": {
      "text/plain": [
       "LogisticRegression(C=1.0, class_weight=None, dual=False, fit_intercept=True,\n",
       "                   intercept_scaling=1, l1_ratio=None, max_iter=100,\n",
       "                   multi_class='auto', n_jobs=None, penalty='l2',\n",
       "                   random_state=None, solver='lbfgs', tol=0.0001, verbose=0,\n",
       "                   warm_start=False)"
      ]
     },
     "execution_count": 27,
     "metadata": {},
     "output_type": "execute_result"
    }
   ],
   "source": [
    "classifier = LogisticRegression()\n",
    "classifier.fit(X_train,y_train)"
   ]
  },
  {
   "cell_type": "code",
   "execution_count": 28,
   "metadata": {},
   "outputs": [
    {
     "name": "stdout",
     "output_type": "stream",
     "text": [
      "Train accuracy:100.0 \n",
      "Test accuracy:99.03614457831326 \n"
     ]
    }
   ],
   "source": [
    "score1 = classifier.score(X_train, y_train)\n",
    "score = classifier.score(X_test, y_test)\n",
    "print('Train accuracy:{} \\nTest accuracy:{} ' .format((score1*100),(score*100)))"
   ]
  },
  {
   "cell_type": "code",
   "execution_count": 29,
   "metadata": {},
   "outputs": [],
   "source": [
    "logisticpredict=classifier.predict(X_test)"
   ]
  },
  {
   "cell_type": "code",
   "execution_count": 30,
   "metadata": {},
   "outputs": [
    {
     "name": "stdout",
     "output_type": "stream",
     "text": [
      "              precision    recall  f1-score   support\n",
      "\n",
      "           0       1.00      0.99      0.99       293\n",
      "           1       0.98      0.99      0.98       122\n",
      "\n",
      "    accuracy                           0.99       415\n",
      "   macro avg       0.99      0.99      0.99       415\n",
      "weighted avg       0.99      0.99      0.99       415\n",
      "\n"
     ]
    }
   ],
   "source": [
    "print(classification_report(y_test,logisticpredict))"
   ]
  },
  {
   "cell_type": "code",
   "execution_count": 31,
   "metadata": {},
   "outputs": [],
   "source": [
    "test=\"\"\"Detonative top dressing allelic pip adequate mako longish daubentonia madagascariensis europocentric hyperlipidemia uniovulate acer platanoides undocumented semnopithecus entellus unread garonne improved family roccellaceae livid italo calvino inquisitive gunter fabian lower wing pan troglodytes schweinfurthii entitled taklamakan desert familial genus drypis platyrhinian hygiene smoggy bastinado speckless hug drug knobby patient algorithmic repeating decimal exhortative sierra leonean lxxviii recombinant protein transitory sense impression stereotypical implementation flea olympian games bowfront fishplate bibliothecarial boxer deskbound salad bar flavourless meatman lucullan auditory meatus unforethoughtful cucurbita.\"\"\""
   ]
  },
  {
   "cell_type": "code",
   "execution_count": 34,
   "metadata": {},
   "outputs": [],
   "source": [
    "test1=\"\"\"Above your head no star will flame.\n",
    "\n",
    "    One weary sound will be the same—\n",
    "\n",
    "    the hoarse roar of the gale.\n",
    "\n",
    "    The shadows fall from your tired eyes\n",
    "\n",
    "    as your lone bedside candle dies,\n",
    "\n",
    "    for here the calendar breeds nights\n",
    "\n",
    "    till stores of candles fail\"\"\""
   ]
  },
  {
   "cell_type": "code",
   "execution_count": 36,
   "metadata": {},
   "outputs": [],
   "source": [
    "test2=\"\"\"Alex, a teenager living in near-future England, leads his gang on nightly orgies of opportunistic, random \"ultra-violence.\" Alex's friends (\"droogs\" in the novel's Anglo-Russian slang, Nadsat) are: Dim, a slow-witted bruiser who is the gang's muscle; Georgie, an ambitious second-in-command; and Pete, who mostly plays along as the droogs indulge their taste for ultra-violence. Characterized as a sociopath and a hardened juvenile delinquent, Alex is also intelligent and quick-witted, with sophisticated taste in music, being particularly fond of Beethoven, or \"Lovely Ludwig Van.\" The novel begins with the droogs sitting in their favorite hangout (the Korova Milkbar), drinking milk-drug cocktails, called \"milk-plus\", to hype themselves for the night's mayhem. They assault a scholar walking home from the public library, rob a store leaving the owner and his wife bloodied and unconscious, stomp a panhandling derelict, then scuffle with a rival gang. Joyriding through the countryside in a stolen car, they break into an isolated cottage and maul the young couple living there, beating the husband and raping his wife.\"\"\""
   ]
  },
  {
   "cell_type": "code",
   "execution_count": 39,
   "metadata": {},
   "outputs": [],
   "source": [
    "def predict(test):\n",
    "    clean=clean_text(test)\n",
    "    clean=remove_stopwords(clean)\n",
    "    clean=np.array([clean])\n",
    "    t = vectorizer.transform(clean)\n",
    "    result=classifier.predict(t)\n",
    "    prob=np.max(classifier.predict_proba(t))\n",
    "    if prob<0.90:\n",
    "        print('tag:\"NA\",confidence:{:.2f}'.format(prob))\n",
    "    elif result==0:\n",
    "        print('tag:\"novel\",confidence:{:.2f}'.format(prob))\n",
    "    else:\n",
    "        print('tag:\"poem\",confidence:{:.2f}'.format(prob))"
   ]
  },
  {
   "cell_type": "code",
   "execution_count": 43,
   "metadata": {},
   "outputs": [
    {
     "name": "stdout",
     "output_type": "stream",
     "text": [
      "tag:\"NA\",confidence:0.67\n"
     ]
    }
   ],
   "source": [
    "predict(test)"
   ]
  },
  {
   "cell_type": "code",
   "execution_count": null,
   "metadata": {},
   "outputs": [],
   "source": []
  }
 ],
 "metadata": {
  "kernelspec": {
   "display_name": "Python 3",
   "language": "python",
   "name": "python3"
  },
  "language_info": {
   "codemirror_mode": {
    "name": "ipython",
    "version": 3
   },
   "file_extension": ".py",
   "mimetype": "text/x-python",
   "name": "python",
   "nbconvert_exporter": "python",
   "pygments_lexer": "ipython3",
   "version": "3.7.6"
  }
 },
 "nbformat": 4,
 "nbformat_minor": 4
}
